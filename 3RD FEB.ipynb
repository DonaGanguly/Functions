{
 "cells": [
  {
   "cell_type": "markdown",
   "id": "13729a98-f504-4e94-949c-de2366f92408",
   "metadata": {},
   "source": [
    "## ASSIGNMENT ON 3RD FEBRUARY "
   ]
  },
  {
   "cell_type": "markdown",
   "id": "3b326fc4-e18a-4ad1-87d4-79b538dec17d",
   "metadata": {},
   "source": [
    "Q1. Which keyword is used to create a function? \n",
    "Create a function to return a list of odd numbers in the range of 1 to 25."
   ]
  },
  {
   "cell_type": "code",
   "execution_count": 2,
   "id": "a8210860-19a2-472c-86de-24363155446a",
   "metadata": {},
   "outputs": [],
   "source": [
    "# The keyword used to create a function is \"def\",i.e,to define a function.\n",
    "def lstodd():\n",
    "    o=[]\n",
    "    for i in range(1,25):\n",
    "        if i%2!=0:\n",
    "            o.append(i)\n",
    "    return o"
   ]
  },
  {
   "cell_type": "code",
   "execution_count": 3,
   "id": "b3bb3102-6f09-431c-a356-c71df5a140d4",
   "metadata": {},
   "outputs": [
    {
     "data": {
      "text/plain": [
       "[1, 3, 5, 7, 9, 11, 13, 15, 17, 19, 21, 23]"
      ]
     },
     "execution_count": 3,
     "metadata": {},
     "output_type": "execute_result"
    }
   ],
   "source": [
    "lstodd()"
   ]
  },
  {
   "cell_type": "markdown",
   "id": "46f2f1bb-a732-42c2-a2ba-d1a6531ae315",
   "metadata": {},
   "source": [
    "Q2. Why *args and **kwargs is used in some functions? \n",
    "Create a function each for *args and **kwargs to demonstrate their use."
   ]
  },
  {
   "cell_type": "code",
   "execution_count": 8,
   "id": "02d36f88-fd33-48ef-9e54-93bf19e3708c",
   "metadata": {},
   "outputs": [],
   "source": [
    "# *args is used as aruguments in function,to take multiple inputs.\n",
    "# *kwargs is used as aruguments in function,to take inputs as key-value pair(Dictionares).\n",
    "def abc (*args):\n",
    "    return args"
   ]
  },
  {
   "cell_type": "code",
   "execution_count": 9,
   "id": "f84ea026-697e-4492-8103-572f92edcdd5",
   "metadata": {},
   "outputs": [
    {
     "data": {
      "text/plain": [
       "('a', 'b', 'c', 1, 2)"
      ]
     },
     "execution_count": 9,
     "metadata": {},
     "output_type": "execute_result"
    }
   ],
   "source": [
    "abc('a','b','c',1,2)"
   ]
  },
  {
   "cell_type": "code",
   "execution_count": 5,
   "id": "56764df7-985f-4616-ac21-60ec8337de8a",
   "metadata": {},
   "outputs": [],
   "source": [
    "def ab(**kwargs):\n",
    "    return kwargs"
   ]
  },
  {
   "cell_type": "code",
   "execution_count": 7,
   "id": "6045d11d-59ad-48dc-99b9-773f9c7dc103",
   "metadata": {},
   "outputs": [
    {
     "data": {
      "text/plain": [
       "{'ab': 'c', 'dc': 12}"
      ]
     },
     "execution_count": 7,
     "metadata": {},
     "output_type": "execute_result"
    }
   ],
   "source": [
    "ab(ab=\"c\",dc=12)"
   ]
  },
  {
   "cell_type": "markdown",
   "id": "9ae99c08-3c72-4fa4-b631-31e0197febaa",
   "metadata": {},
   "source": [
    "Q3. What is an iterator in python? Name the method used to initialise\n",
    "the iterator object and the method used for iteration. Use these methods to print \n",
    "the first five elements of the given list [2, 4, 6, 8, 10, 12, 14, 16,18, 20]."
   ]
  },
  {
   "cell_type": "code",
   "execution_count": 2,
   "id": "9da3aae9-6ee4-47b1-b44b-4c52386ec013",
   "metadata": {},
   "outputs": [
    {
     "name": "stdout",
     "output_type": "stream",
     "text": [
      "2\n",
      "4\n",
      "6\n",
      "8\n",
      "10\n"
     ]
    }
   ],
   "source": [
    "'''  Iterator in Python is an object that is used to iterate\n",
    "over iterable objects like lists, tuples, dicts, and sets.\n",
    "This object works behind loops.\n",
    "Not only that whenever we do some thing in repetation we use it.eg: for loop,while loop'''\n",
    "# Method used to initialise the iterator object---> iter()\n",
    "# Method used for iteration--> next()\n",
    "lst=[2, 4, 6, 8, 10, 12, 14, 16,18, 20]\n",
    "it=iter(lst)\n",
    "print(next(it))\n",
    "print(next(it))\n",
    "print(next(it))\n",
    "print(next(it))\n",
    "print(next(it))"
   ]
  },
  {
   "cell_type": "markdown",
   "id": "f80b7186-0190-45f1-84a1-a9d1cfd7ff19",
   "metadata": {},
   "source": [
    "Q4. What is a generator function in python? Why yield keyword is used?\n",
    "Give an example of a generator function."
   ]
  },
  {
   "cell_type": "code",
   "execution_count": 1,
   "id": "929b5a70-3fdf-48bb-9659-cf6eb50e74f0",
   "metadata": {},
   "outputs": [],
   "source": [
    "# A Generator function is one which creates a generator object,doesn't return any data.\n",
    "# Once iterated upon the object it generates the data one by one.\n",
    "#It remembers only the last element and generates the next.\n",
    "#So,it doesn't take much of main memory,while generating alot of data."
   ]
  },
  {
   "cell_type": "code",
   "execution_count": 2,
   "id": "b1b80ff7-c5fc-4fc9-8614-fd4474f6a65e",
   "metadata": {},
   "outputs": [],
   "source": [
    "# \"yeild\" keyword is used to create generator function.\n",
    "# it is used in place of return statement(used in case of normal function)"
   ]
  },
  {
   "cell_type": "code",
   "execution_count": 4,
   "id": "8f856821-e67e-4497-8f4b-a118bd96ef1c",
   "metadata": {},
   "outputs": [],
   "source": [
    "# Example of Generator function: range(start,stop)\n",
    "def fibo(n):\n",
    "    a,b=0,1\n",
    "    for i in range(n):\n",
    "        yield a\n",
    "        a,b=b,a+b"
   ]
  },
  {
   "cell_type": "code",
   "execution_count": 5,
   "id": "a60b9109-80a5-44d7-9447-4c57ca7f349f",
   "metadata": {},
   "outputs": [
    {
     "data": {
      "text/plain": [
       "<generator object fibo at 0x7f0d31fb9b60>"
      ]
     },
     "execution_count": 5,
     "metadata": {},
     "output_type": "execute_result"
    }
   ],
   "source": [
    "fibo(10)"
   ]
  },
  {
   "cell_type": "code",
   "execution_count": 7,
   "id": "4df3be93-482c-4716-91e1-c234a95fd397",
   "metadata": {},
   "outputs": [
    {
     "name": "stdout",
     "output_type": "stream",
     "text": [
      "0  1  1  2  3  5  8  13  21  34  "
     ]
    }
   ],
   "source": [
    "for i in fibo(10):\n",
    "    print(i,\" \",end='')"
   ]
  },
  {
   "cell_type": "markdown",
   "id": "b75b1fb1-989a-4ed6-a4d2-6869f48a5f59",
   "metadata": {},
   "source": [
    "Q5. Create a generator function for prime numbers less than 1000.\n",
    "Use the next() method to print the first 20 prime numbers."
   ]
  },
  {
   "cell_type": "code",
   "execution_count": 49,
   "id": "35f8315e-33f3-4565-9ad9-b8eff7d2a10b",
   "metadata": {},
   "outputs": [],
   "source": [
    "def pri(n):\n",
    "    if n<1000:\n",
    "        for i in range (n):\n",
    "            for j in range(2,i):\n",
    "                if i%j==0:\n",
    "                    break\n",
    "            else:\n",
    "                yield i\n",
    "    else:\n",
    "        print(\"invalid input\")"
   ]
  },
  {
   "cell_type": "code",
   "execution_count": 61,
   "id": "b2b2acf5-bfba-4f16-a898-eff3d6058b6b",
   "metadata": {},
   "outputs": [
    {
     "data": {
      "text/plain": [
       "<generator object pri at 0x7f0d0f7f4c80>"
      ]
     },
     "execution_count": 61,
     "metadata": {},
     "output_type": "execute_result"
    }
   ],
   "source": [
    "pri(500)"
   ]
  },
  {
   "cell_type": "code",
   "execution_count": 65,
   "id": "bc305d80-554c-496b-8185-123d5da1314f",
   "metadata": {},
   "outputs": [
    {
     "name": "stdout",
     "output_type": "stream",
     "text": [
      "0 1 2 3 5 7 11 13 17 19 23 29 31 37 41 43 47 53 59 61 "
     ]
    }
   ],
   "source": [
    "it_pri=iter(pri(500))\n",
    "for i in range(20):\n",
    "    print(next(it_pri),end=\" \")"
   ]
  }
 ],
 "metadata": {
  "kernelspec": {
   "display_name": "Python 3 (ipykernel)",
   "language": "python",
   "name": "python3"
  },
  "language_info": {
   "codemirror_mode": {
    "name": "ipython",
    "version": 3
   },
   "file_extension": ".py",
   "mimetype": "text/x-python",
   "name": "python",
   "nbconvert_exporter": "python",
   "pygments_lexer": "ipython3",
   "version": "3.10.8"
  }
 },
 "nbformat": 4,
 "nbformat_minor": 5
}
